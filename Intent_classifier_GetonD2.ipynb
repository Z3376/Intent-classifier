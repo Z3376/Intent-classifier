{
  "nbformat": 4,
  "nbformat_minor": 0,
  "metadata": {
    "colab": {
      "name": "Intent_classifier_GetonD2.ipynb",
      "version": "0.3.2",
      "provenance": [],
      "collapsed_sections": [
        "VWQbn0f3ecPv",
        "46mfKxX-csp9",
        "OIXLHaj8c7SO"
      ],
      "toc_visible": true,
      "machine_shape": "hm"
    },
    "kernelspec": {
      "name": "python3",
      "display_name": "Python 3"
    },
    "accelerator": "GPU"
  },
  "cells": [
    {
      "cell_type": "code",
      "metadata": {
        "id": "txg4Is_ixxUA",
        "colab_type": "code",
        "outputId": "aea69022-50f5-4908-b56a-7f64319f5b0f",
        "colab": {
          "base_uri": "https://localhost:8080/",
          "height": 904
        }
      },
      "source": [
        "# !pip install -q keras-bert\n",
        "!pip install livelossplot\n",
        "import pandas as pd\n",
        "import numpy as np\n",
        "from tqdm import tqdm\n",
        "import re\n",
        "import matplotlib.pyplot as plt\n",
        "import keras\n",
        "# import keras_bert\n",
        "import os\n",
        "# import codecs\n",
        "from gensim.models import Word2Vec\n",
        "import tensorflow as tf\n",
        "from livelossplot import PlotLossesKeras"
      ],
      "execution_count": 0,
      "outputs": [
        {
          "output_type": "stream",
          "text": [
            "  Building wheel for keras-bert (setup.py) ... \u001b[?25l\u001b[?25hdone\n",
            "  Building wheel for keras-transformer (setup.py) ... \u001b[?25l\u001b[?25hdone\n",
            "  Building wheel for keras-pos-embd (setup.py) ... \u001b[?25l\u001b[?25hdone\n",
            "  Building wheel for keras-multi-head (setup.py) ... \u001b[?25l\u001b[?25hdone\n",
            "  Building wheel for keras-layer-normalization (setup.py) ... \u001b[?25l\u001b[?25hdone\n",
            "  Building wheel for keras-position-wise-feed-forward (setup.py) ... \u001b[?25l\u001b[?25hdone\n",
            "  Building wheel for keras-embed-sim (setup.py) ... \u001b[?25l\u001b[?25hdone\n",
            "  Building wheel for keras-self-attention (setup.py) ... \u001b[?25l\u001b[?25hdone\n",
            "Collecting livelossplot\n",
            "  Downloading https://files.pythonhosted.org/packages/8e/f6/0618c30078f9c1e4b2cd84f1ea6bb70c6615070468b75b0d934326107bcd/livelossplot-0.4.1-py3-none-any.whl\n",
            "Requirement already satisfied: matplotlib in /usr/local/lib/python3.6/dist-packages (from livelossplot) (3.0.3)\n",
            "Requirement already satisfied: notebook in /usr/local/lib/python3.6/dist-packages (from livelossplot) (5.2.2)\n",
            "Requirement already satisfied: numpy>=1.10.0 in /usr/local/lib/python3.6/dist-packages (from matplotlib->livelossplot) (1.16.4)\n",
            "Requirement already satisfied: cycler>=0.10 in /usr/local/lib/python3.6/dist-packages (from matplotlib->livelossplot) (0.10.0)\n",
            "Requirement already satisfied: pyparsing!=2.0.4,!=2.1.2,!=2.1.6,>=2.0.1 in /usr/local/lib/python3.6/dist-packages (from matplotlib->livelossplot) (2.4.2)\n",
            "Requirement already satisfied: kiwisolver>=1.0.1 in /usr/local/lib/python3.6/dist-packages (from matplotlib->livelossplot) (1.1.0)\n",
            "Requirement already satisfied: python-dateutil>=2.1 in /usr/local/lib/python3.6/dist-packages (from matplotlib->livelossplot) (2.5.3)\n",
            "Requirement already satisfied: ipython-genutils in /usr/local/lib/python3.6/dist-packages (from notebook->livelossplot) (0.2.0)\n",
            "Requirement already satisfied: jinja2 in /usr/local/lib/python3.6/dist-packages (from notebook->livelossplot) (2.10.1)\n",
            "Requirement already satisfied: nbformat in /usr/local/lib/python3.6/dist-packages (from notebook->livelossplot) (4.4.0)\n",
            "Requirement already satisfied: jupyter-client in /usr/local/lib/python3.6/dist-packages (from notebook->livelossplot) (5.3.1)\n",
            "Requirement already satisfied: nbconvert in /usr/local/lib/python3.6/dist-packages (from notebook->livelossplot) (5.6.0)\n",
            "Requirement already satisfied: jupyter-core in /usr/local/lib/python3.6/dist-packages (from notebook->livelossplot) (4.5.0)\n",
            "Requirement already satisfied: ipykernel in /usr/local/lib/python3.6/dist-packages (from notebook->livelossplot) (4.6.1)\n",
            "Requirement already satisfied: traitlets>=4.2.1 in /usr/local/lib/python3.6/dist-packages (from notebook->livelossplot) (4.3.2)\n",
            "Requirement already satisfied: tornado>=4 in /usr/local/lib/python3.6/dist-packages (from notebook->livelossplot) (4.5.3)\n",
            "Requirement already satisfied: terminado>=0.3.3; sys_platform != \"win32\" in /usr/local/lib/python3.6/dist-packages (from notebook->livelossplot) (0.8.2)\n",
            "Requirement already satisfied: six in /usr/local/lib/python3.6/dist-packages (from cycler>=0.10->matplotlib->livelossplot) (1.12.0)\n",
            "Requirement already satisfied: setuptools in /usr/local/lib/python3.6/dist-packages (from kiwisolver>=1.0.1->matplotlib->livelossplot) (41.2.0)\n",
            "Requirement already satisfied: MarkupSafe>=0.23 in /usr/local/lib/python3.6/dist-packages (from jinja2->notebook->livelossplot) (1.1.1)\n",
            "Requirement already satisfied: jsonschema!=2.5.0,>=2.4 in /usr/local/lib/python3.6/dist-packages (from nbformat->notebook->livelossplot) (2.6.0)\n",
            "Requirement already satisfied: pyzmq>=13 in /usr/local/lib/python3.6/dist-packages (from jupyter-client->notebook->livelossplot) (17.0.0)\n",
            "Requirement already satisfied: entrypoints>=0.2.2 in /usr/local/lib/python3.6/dist-packages (from nbconvert->notebook->livelossplot) (0.3)\n",
            "Requirement already satisfied: defusedxml in /usr/local/lib/python3.6/dist-packages (from nbconvert->notebook->livelossplot) (0.6.0)\n",
            "Requirement already satisfied: pygments in /usr/local/lib/python3.6/dist-packages (from nbconvert->notebook->livelossplot) (2.1.3)\n",
            "Requirement already satisfied: mistune<2,>=0.8.1 in /usr/local/lib/python3.6/dist-packages (from nbconvert->notebook->livelossplot) (0.8.4)\n",
            "Requirement already satisfied: pandocfilters>=1.4.1 in /usr/local/lib/python3.6/dist-packages (from nbconvert->notebook->livelossplot) (1.4.2)\n",
            "Requirement already satisfied: testpath in /usr/local/lib/python3.6/dist-packages (from nbconvert->notebook->livelossplot) (0.4.2)\n",
            "Requirement already satisfied: bleach in /usr/local/lib/python3.6/dist-packages (from nbconvert->notebook->livelossplot) (3.1.0)\n",
            "Requirement already satisfied: ipython>=4.0.0 in /usr/local/lib/python3.6/dist-packages (from ipykernel->notebook->livelossplot) (5.5.0)\n",
            "Requirement already satisfied: decorator in /usr/local/lib/python3.6/dist-packages (from traitlets>=4.2.1->notebook->livelossplot) (4.4.0)\n",
            "Requirement already satisfied: ptyprocess; os_name != \"nt\" in /usr/local/lib/python3.6/dist-packages (from terminado>=0.3.3; sys_platform != \"win32\"->notebook->livelossplot) (0.6.0)\n",
            "Requirement already satisfied: webencodings in /usr/local/lib/python3.6/dist-packages (from bleach->nbconvert->notebook->livelossplot) (0.5.1)\n",
            "Requirement already satisfied: pexpect; sys_platform != \"win32\" in /usr/local/lib/python3.6/dist-packages (from ipython>=4.0.0->ipykernel->notebook->livelossplot) (4.7.0)\n",
            "Requirement already satisfied: simplegeneric>0.8 in /usr/local/lib/python3.6/dist-packages (from ipython>=4.0.0->ipykernel->notebook->livelossplot) (0.8.1)\n",
            "Requirement already satisfied: pickleshare in /usr/local/lib/python3.6/dist-packages (from ipython>=4.0.0->ipykernel->notebook->livelossplot) (0.7.5)\n",
            "Requirement already satisfied: prompt-toolkit<2.0.0,>=1.0.4 in /usr/local/lib/python3.6/dist-packages (from ipython>=4.0.0->ipykernel->notebook->livelossplot) (1.0.16)\n",
            "Requirement already satisfied: wcwidth in /usr/local/lib/python3.6/dist-packages (from prompt-toolkit<2.0.0,>=1.0.4->ipython>=4.0.0->ipykernel->notebook->livelossplot) (0.1.7)\n",
            "Installing collected packages: livelossplot\n",
            "Successfully installed livelossplot-0.4.1\n"
          ],
          "name": "stdout"
        },
        {
          "output_type": "stream",
          "text": [
            "Using TensorFlow backend.\n"
          ],
          "name": "stderr"
        }
      ]
    },
    {
      "cell_type": "code",
      "metadata": {
        "id": "X7g0q33MxW9z",
        "colab_type": "code",
        "outputId": "f9408fdb-5435-4512-f852-7fa8a1d2047b",
        "colab": {
          "base_uri": "https://localhost:8080/",
          "height": 136
        }
      },
      "source": [
        "!git clone https://github.com/snipsco/nlu-benchmark.git"
      ],
      "execution_count": 0,
      "outputs": [
        {
          "output_type": "stream",
          "text": [
            "Cloning into 'nlu-benchmark'...\n",
            "remote: Enumerating objects: 11, done.\u001b[K\n",
            "remote: Counting objects:   9% (1/11)\u001b[K\rremote: Counting objects:  18% (2/11)\u001b[K\rremote: Counting objects:  27% (3/11)\u001b[K\rremote: Counting objects:  36% (4/11)\u001b[K\rremote: Counting objects:  45% (5/11)\u001b[K\rremote: Counting objects:  54% (6/11)\u001b[K\rremote: Counting objects:  63% (7/11)\u001b[K\rremote: Counting objects:  72% (8/11)\u001b[K\rremote: Counting objects:  81% (9/11)\u001b[K\rremote: Counting objects:  90% (10/11)\u001b[K\rremote: Counting objects: 100% (11/11)\u001b[K\rremote: Counting objects: 100% (11/11), done.\u001b[K\n",
            "remote: Compressing objects:  11% (1/9)\u001b[K\rremote: Compressing objects:  22% (2/9)\u001b[K\rremote: Compressing objects:  33% (3/9)\u001b[K\rremote: Compressing objects:  44% (4/9)\u001b[K\rremote: Compressing objects:  55% (5/9)\u001b[K\rremote: Compressing objects:  66% (6/9)\u001b[K\rremote: Compressing objects:  77% (7/9)\u001b[K\rremote: Compressing objects:  88% (8/9)\u001b[K\rremote: Compressing objects: 100% (9/9)\u001b[K\rremote: Compressing objects: 100% (9/9), done.\u001b[K\n",
            "Receiving objects:   0% (1/389)   \rReceiving objects:   1% (4/389)   \rReceiving objects:   2% (8/389)   \rReceiving objects:   3% (12/389)   \rReceiving objects:   4% (16/389)   \rReceiving objects:   5% (20/389)   \rReceiving objects:   6% (24/389)   \rReceiving objects:   7% (28/389)   \rReceiving objects:   8% (32/389)   \rReceiving objects:   9% (36/389)   \rReceiving objects:  10% (39/389)   \rReceiving objects:  11% (43/389)   \rReceiving objects:  12% (47/389)   \rReceiving objects:  13% (51/389)   \rReceiving objects:  14% (55/389)   \rReceiving objects:  15% (59/389)   \rReceiving objects:  16% (63/389)   \rReceiving objects:  17% (67/389)   \rReceiving objects:  18% (71/389)   \rReceiving objects:  19% (74/389)   \rReceiving objects:  20% (78/389)   \rReceiving objects:  21% (82/389)   \rReceiving objects:  22% (86/389)   \rReceiving objects:  23% (90/389)   \rReceiving objects:  24% (94/389)   \rReceiving objects:  25% (98/389)   \rReceiving objects:  26% (102/389)   \rReceiving objects:  27% (106/389)   \rReceiving objects:  28% (109/389)   \rReceiving objects:  29% (113/389)   \rReceiving objects:  30% (117/389)   \rReceiving objects:  31% (121/389)   \rReceiving objects:  32% (125/389)   \rReceiving objects:  33% (129/389)   \rReceiving objects:  34% (133/389)   \rReceiving objects:  35% (137/389)   \rReceiving objects:  36% (141/389)   \rReceiving objects:  37% (144/389)   \rReceiving objects:  38% (148/389)   \rReceiving objects:  39% (152/389)   \rReceiving objects:  40% (156/389)   \rReceiving objects:  41% (160/389)   \rReceiving objects:  42% (164/389)   \rReceiving objects:  43% (168/389)   \rReceiving objects:  44% (172/389)   \rReceiving objects:  45% (176/389)   \rReceiving objects:  46% (179/389)   \rReceiving objects:  47% (183/389)   \rReceiving objects:  48% (187/389)   \rReceiving objects:  49% (191/389)   \rReceiving objects:  50% (195/389)   \rReceiving objects:  51% (199/389)   \rReceiving objects:  52% (203/389)   \rReceiving objects:  53% (207/389)   \rReceiving objects:  54% (211/389)   \rReceiving objects:  55% (214/389)   \rReceiving objects:  56% (218/389)   \rReceiving objects:  57% (222/389)   \rReceiving objects:  58% (226/389)   \rReceiving objects:  59% (230/389)   \rReceiving objects:  60% (234/389)   \rReceiving objects:  61% (238/389)   \rReceiving objects:  62% (242/389)   \rReceiving objects:  63% (246/389)   \rReceiving objects:  64% (249/389)   \rReceiving objects:  65% (253/389)   \rReceiving objects:  66% (257/389)   \rReceiving objects:  67% (261/389)   \rReceiving objects:  68% (265/389)   \rReceiving objects:  69% (269/389)   \rReceiving objects:  70% (273/389)   \rReceiving objects:  71% (277/389)   \rReceiving objects:  72% (281/389)   \rReceiving objects:  73% (284/389)   \rReceiving objects:  74% (288/389)   \rReceiving objects:  75% (292/389)   \rReceiving objects:  76% (296/389)   \rReceiving objects:  77% (300/389)   \rReceiving objects:  78% (304/389)   \rReceiving objects:  79% (308/389)   \rReceiving objects:  80% (312/389)   \rReceiving objects:  81% (316/389)   \rReceiving objects:  82% (319/389)   \rReceiving objects:  83% (323/389)   \rReceiving objects:  84% (327/389)   \rReceiving objects:  85% (331/389)   \rReceiving objects:  86% (335/389)   \rReceiving objects:  87% (339/389)   \rremote: Total 389 (delta 2), reused 11 (delta 2), pack-reused 378\u001b[K\n",
            "Receiving objects:  88% (343/389)   \rReceiving objects:  89% (347/389)   \rReceiving objects:  90% (351/389)   \rReceiving objects:  91% (354/389)   \rReceiving objects:  92% (358/389)   \rReceiving objects:  93% (362/389)   \rReceiving objects:  94% (366/389)   \rReceiving objects:  95% (370/389)   \rReceiving objects:  96% (374/389)   \rReceiving objects:  97% (378/389)   \rReceiving objects:  98% (382/389)   \rReceiving objects:  99% (386/389)   \rReceiving objects: 100% (389/389)   \rReceiving objects: 100% (389/389), 1.24 MiB | 2.68 MiB/s, done.\n",
            "Resolving deltas:   0% (0/242)   \rResolving deltas:  14% (34/242)   \rResolving deltas:  21% (51/242)   \rResolving deltas:  22% (54/242)   \rResolving deltas:  23% (57/242)   \rResolving deltas:  28% (68/242)   \rResolving deltas:  30% (74/242)   \rResolving deltas:  31% (76/242)   \rResolving deltas:  33% (82/242)   \rResolving deltas:  38% (92/242)   \rResolving deltas:  42% (103/242)   \rResolving deltas:  45% (109/242)   \rResolving deltas:  47% (116/242)   \rResolving deltas:  50% (123/242)   \rResolving deltas:  53% (129/242)   \rResolving deltas:  56% (136/242)   \rResolving deltas:  59% (143/242)   \rResolving deltas:  63% (154/242)   \rResolving deltas:  65% (158/242)   \rResolving deltas:  75% (183/242)   \rResolving deltas:  76% (185/242)   \rResolving deltas:  78% (190/242)   \rResolving deltas:  83% (203/242)   \rResolving deltas:  85% (207/242)   \rResolving deltas:  86% (209/242)   \rResolving deltas:  90% (219/242)   \rResolving deltas:  91% (222/242)   \rResolving deltas:  92% (225/242)   \rResolving deltas:  95% (230/242)   \rResolving deltas:  96% (233/242)   \rResolving deltas:  97% (235/242)   \rResolving deltas:  99% (241/242)   \rResolving deltas: 100% (242/242)   \rResolving deltas: 100% (242/242), done.\n"
          ],
          "name": "stdout"
        }
      ]
    },
    {
      "cell_type": "code",
      "metadata": {
        "id": "L5gXrnhcxmdm",
        "colab_type": "code",
        "outputId": "d6bbaa0f-3eb4-476b-d1b2-0fc9134cccaa",
        "colab": {
          "base_uri": "https://localhost:8080/",
          "height": 34
        }
      },
      "source": [
        "# cd nlu-benchmark/"
      ],
      "execution_count": 0,
      "outputs": [
        {
          "output_type": "stream",
          "text": [
            "/content/nlu-benchmark\n"
          ],
          "name": "stdout"
        }
      ]
    },
    {
      "cell_type": "code",
      "metadata": {
        "id": "tK2RqKiVxpua",
        "colab_type": "code",
        "outputId": "522f87d5-5344-43f6-b3d4-949a8ca06a06",
        "colab": {
          "base_uri": "https://localhost:8080/",
          "height": 119
        }
      },
      "source": [
        "# ls -ltr"
      ],
      "execution_count": 0,
      "outputs": [
        {
          "output_type": "stream",
          "text": [
            "total 24\n",
            "drwxr-xr-x 2 root root 4096 Sep  6 15:32 \u001b[0m\u001b[01;34m2016-12-built-in-intents\u001b[0m/\n",
            "drwxr-xr-x 9 root root 4096 Sep  6 15:32 \u001b[01;34m2017-06-custom-intent-engines\u001b[0m/\n",
            "drwxr-xr-x 3 root root 4096 Sep  6 15:32 \u001b[01;34m2018-01-Braun-et-al-extension\u001b[0m/\n",
            "-rwxr-xr-x 1 root root 1921 Sep  6 15:32 \u001b[01;32mREADME.md\u001b[0m*\n",
            "-rw-r--r-- 1 root root 6555 Sep  6 15:32 LICENSE\n"
          ],
          "name": "stdout"
        }
      ]
    },
    {
      "cell_type": "code",
      "metadata": {
        "id": "yHr4Sfphxthx",
        "colab_type": "code",
        "colab": {}
      },
      "source": [
        "# cd 2017-06-custom-intent-engines/"
      ],
      "execution_count": 0,
      "outputs": []
    },
    {
      "cell_type": "code",
      "metadata": {
        "id": "SCRqoYsFxzvk",
        "colab_type": "code",
        "colab": {}
      },
      "source": [
        "# ls -ltr"
      ],
      "execution_count": 0,
      "outputs": []
    },
    {
      "cell_type": "code",
      "metadata": {
        "id": "o9NaVI3ix1CS",
        "colab_type": "code",
        "colab": {}
      },
      "source": [
        "# cd .."
      ],
      "execution_count": 0,
      "outputs": []
    },
    {
      "cell_type": "code",
      "metadata": {
        "id": "Me5kBrt_6ST-",
        "colab_type": "code",
        "colab": {}
      },
      "source": [
        "# ls -ltr"
      ],
      "execution_count": 0,
      "outputs": []
    },
    {
      "cell_type": "code",
      "metadata": {
        "id": "dYcMl2qkHDZJ",
        "colab_type": "code",
        "outputId": "0fd11c20-540c-4ea0-e6c4-ad5d1b7f1fec",
        "colab": {
          "base_uri": "https://localhost:8080/",
          "height": 377
        }
      },
      "source": [
        "# !wget http://nlp.stanford.edu/data/glove.840B.300d.zip"
      ],
      "execution_count": 0,
      "outputs": [
        {
          "output_type": "stream",
          "text": [
            "--2019-09-03 11:05:13--  http://nlp.stanford.edu/data/glove.840B.300d.zip\n",
            "Resolving nlp.stanford.edu (nlp.stanford.edu)... 171.64.67.140\n",
            "Connecting to nlp.stanford.edu (nlp.stanford.edu)|171.64.67.140|:80... connected.\n",
            "HTTP request sent, awaiting response... 302 Found\n",
            "Location: https://nlp.stanford.edu/data/glove.840B.300d.zip [following]\n",
            "--2019-09-03 11:05:13--  https://nlp.stanford.edu/data/glove.840B.300d.zip\n",
            "Connecting to nlp.stanford.edu (nlp.stanford.edu)|171.64.67.140|:443... connected.\n",
            "HTTP request sent, awaiting response... 301 Moved Permanently\n",
            "Location: http://downloads.cs.stanford.edu/nlp/data/glove.840B.300d.zip [following]\n",
            "--2019-09-03 11:05:13--  http://downloads.cs.stanford.edu/nlp/data/glove.840B.300d.zip\n",
            "Resolving downloads.cs.stanford.edu (downloads.cs.stanford.edu)... 171.64.64.22\n",
            "Connecting to downloads.cs.stanford.edu (downloads.cs.stanford.edu)|171.64.64.22|:80... connected.\n",
            "HTTP request sent, awaiting response... 200 OK\n",
            "Length: 2176768927 (2.0G) [application/zip]\n",
            "Saving to: ‘glove.840B.300d.zip.1’\n",
            "\n",
            "glove.840B.300d.zip 100%[===================>]   2.03G  33.7MB/s    in 77s     \n",
            "\n",
            "2019-09-03 11:06:30 (27.0 MB/s) - ‘glove.840B.300d.zip.1’ saved [2176768927/2176768927]\n",
            "\n"
          ],
          "name": "stdout"
        }
      ]
    },
    {
      "cell_type": "code",
      "metadata": {
        "id": "pI9EFZomHF0y",
        "colab_type": "code",
        "outputId": "8e4cef73-f6bb-470e-c046-24cf94869ae8",
        "colab": {
          "base_uri": "https://localhost:8080/",
          "height": 51
        }
      },
      "source": [
        "# !unzip glove.840B.300d.zip"
      ],
      "execution_count": 0,
      "outputs": [
        {
          "output_type": "stream",
          "text": [
            "Archive:  glove.840B.300d.zip.1\n",
            "  inflating: glove.840B.300d.txt     \n"
          ],
          "name": "stdout"
        }
      ]
    },
    {
      "cell_type": "code",
      "metadata": {
        "id": "rKJQpOrwX6j3",
        "colab_type": "code",
        "outputId": "f566e47b-9c99-4c98-bb42-1e994177a8d1",
        "colab": {
          "base_uri": "https://localhost:8080/",
          "height": 136
        }
      },
      "source": [
        "# !wget -q https://storage.googleapis.com/bert_models/2018_10_18/uncased_L-12_H-768_A-12.zip\n",
        "# !unzip -o uncased_L-12_H-768_A-12.zip"
      ],
      "execution_count": 0,
      "outputs": [
        {
          "output_type": "stream",
          "text": [
            "Archive:  uncased_L-12_H-768_A-12.zip\n",
            "   creating: uncased_L-12_H-768_A-12/\n",
            "  inflating: uncased_L-12_H-768_A-12/bert_model.ckpt.meta  \n",
            "  inflating: uncased_L-12_H-768_A-12/bert_model.ckpt.data-00000-of-00001  \n",
            "  inflating: uncased_L-12_H-768_A-12/vocab.txt  \n",
            "  inflating: uncased_L-12_H-768_A-12/bert_model.ckpt.index  \n",
            "  inflating: uncased_L-12_H-768_A-12/bert_config.json  \n"
          ],
          "name": "stdout"
        }
      ]
    },
    {
      "cell_type": "markdown",
      "metadata": {
        "id": "-eO2MXLE9ipi",
        "colab_type": "text"
      },
      "source": [
        "# Data"
      ]
    },
    {
      "cell_type": "code",
      "metadata": {
        "id": "aNoeBJeI4iuY",
        "colab_type": "code",
        "colab": {}
      },
      "source": [
        "class json_data:\n",
        "    \n",
        "    def __init__(self,json_file):\n",
        "        self.df = pd.read_json(json_file)\n",
        "        self.data = self.df.iloc[:,0]\n",
        "    \n",
        "    def extract_text(self):\n",
        "        text = []\n",
        "#         text.append([re.sub(' +',' ',re.sub('[^a-zA-Z\\d\\s]','',''.join([self.data[i]['data'][j]['text'] for j in range(len(self.data[i]['data']))]).lower())) for i in tqdm(range(len(self.data)))])\n",
        "        text.append([''.join([self.data[i]['data'][j]['text'] for j in range(len(self.data[i]['data']))]) for i in tqdm(range(len(self.data)))])\n",
        "        return text\n",
        "\n",
        "    def extract_entity(self):\n",
        "        entity = []\n",
        "        for i in tqdm(range(len(self.data))):\n",
        "            row = self.data[i]['data']\n",
        "            dumm = []\n",
        "            for j in range(len(row)):\n",
        "                try:\n",
        "                    dumm+=[row[j]['entity']]*len(row[j]['text'].strip().split(' '))\n",
        "                except:\n",
        "                    dumm+=['O']*len(row[j]['text'].strip().split(' '))\n",
        "            entity.append(dumm)\n",
        "        return entity\n",
        "        \n",
        "    def get_data(self):\n",
        "        text = self.extract_text()\n",
        "        entity = self.extract_entity()\n",
        "        return text,entity"
      ],
      "execution_count": 0,
      "outputs": []
    },
    {
      "cell_type": "code",
      "metadata": {
        "id": "CEx7pzF0yFQ5",
        "colab_type": "code",
        "outputId": "1038bcb3-a829-4b03-9e3b-fce5fbb93c4e",
        "colab": {
          "base_uri": "https://localhost:8080/",
          "height": 51
        }
      },
      "source": [
        "atp = json_data('./nlu-benchmark/2017-06-custom-intent-engines/AddToPlaylist/train_AddToPlaylist.json')\n",
        "atp_text,atp_entity = atp.get_data()"
      ],
      "execution_count": 0,
      "outputs": [
        {
          "output_type": "stream",
          "text": [
            "100%|██████████| 300/300 [00:00<00:00, 9432.68it/s]\n",
            "100%|██████████| 300/300 [00:00<00:00, 38608.55it/s]\n"
          ],
          "name": "stderr"
        }
      ]
    },
    {
      "cell_type": "code",
      "metadata": {
        "id": "vE_h9HCh2FVF",
        "colab_type": "code",
        "outputId": "d08c8b5b-8da2-48d6-fc6f-a1baec88d68e",
        "colab": {
          "base_uri": "https://localhost:8080/",
          "height": 51
        }
      },
      "source": [
        "br = json_data('./nlu-benchmark/2017-06-custom-intent-engines/BookRestaurant/train_BookRestaurant.json')\n",
        "br_text,br_entity = br.get_data()"
      ],
      "execution_count": 0,
      "outputs": [
        {
          "output_type": "stream",
          "text": [
            "100%|██████████| 300/300 [00:00<00:00, 9026.80it/s]\n",
            "100%|██████████| 300/300 [00:00<00:00, 44377.91it/s]\n"
          ],
          "name": "stderr"
        }
      ]
    },
    {
      "cell_type": "code",
      "metadata": {
        "id": "IsRmd0_e3Xr5",
        "colab_type": "code",
        "outputId": "c3274375-0fe4-436d-c29d-91c23a1604be",
        "colab": {
          "base_uri": "https://localhost:8080/",
          "height": 51
        }
      },
      "source": [
        "gw = json_data('./nlu-benchmark/2017-06-custom-intent-engines/GetWeather/train_GetWeather.json')\n",
        "gw_text,gw_entity = gw.get_data()"
      ],
      "execution_count": 0,
      "outputs": [
        {
          "output_type": "stream",
          "text": [
            "100%|██████████| 300/300 [00:00<00:00, 12555.79it/s]\n",
            "100%|██████████| 300/300 [00:00<00:00, 50325.61it/s]\n"
          ],
          "name": "stderr"
        }
      ]
    },
    {
      "cell_type": "code",
      "metadata": {
        "id": "ePfxGvv63_IP",
        "colab_type": "code",
        "outputId": "345e71d5-2738-4260-ed2a-bd06e5f9642e",
        "colab": {
          "base_uri": "https://localhost:8080/",
          "height": 51
        }
      },
      "source": [
        "pm = json_data('./nlu-benchmark/2017-06-custom-intent-engines/PlayMusic/train_PlayMusic.json')\n",
        "pm_text,pm_entity = pm.get_data()"
      ],
      "execution_count": 0,
      "outputs": [
        {
          "output_type": "stream",
          "text": [
            "100%|██████████| 300/300 [00:00<00:00, 13234.58it/s]\n",
            "100%|██████████| 300/300 [00:00<00:00, 54022.46it/s]\n"
          ],
          "name": "stderr"
        }
      ]
    },
    {
      "cell_type": "code",
      "metadata": {
        "id": "W0Y-6h6X53kU",
        "colab_type": "code",
        "outputId": "b9246fd5-c32c-4aab-95cc-1db8c7d4209f",
        "colab": {
          "base_uri": "https://localhost:8080/",
          "height": 51
        }
      },
      "source": [
        "rb = json_data('./nlu-benchmark/2017-06-custom-intent-engines/RateBook/train_RateBook.json')\n",
        "rb_text,rb_entity = rb.get_data()"
      ],
      "execution_count": 0,
      "outputs": [
        {
          "output_type": "stream",
          "text": [
            "100%|██████████| 300/300 [00:00<00:00, 8778.18it/s]\n",
            "100%|██████████| 300/300 [00:00<00:00, 44613.93it/s]\n"
          ],
          "name": "stderr"
        }
      ]
    },
    {
      "cell_type": "code",
      "metadata": {
        "id": "h658puad8TuG",
        "colab_type": "code",
        "outputId": "6f61829f-9df2-4c79-de8d-fc4f07f55dec",
        "colab": {
          "base_uri": "https://localhost:8080/",
          "height": 51
        }
      },
      "source": [
        "scw = json_data('./nlu-benchmark/2017-06-custom-intent-engines/SearchCreativeWork/train_SearchCreativeWork.json')\n",
        "scw_text,scw_entity = scw.get_data()"
      ],
      "execution_count": 0,
      "outputs": [
        {
          "output_type": "stream",
          "text": [
            "100%|██████████| 300/300 [00:00<00:00, 12909.92it/s]\n",
            "100%|██████████| 300/300 [00:00<00:00, 53170.98it/s]\n"
          ],
          "name": "stderr"
        }
      ]
    },
    {
      "cell_type": "code",
      "metadata": {
        "id": "DkALjKhW8bnP",
        "colab_type": "code",
        "outputId": "2540bdd8-b723-4edf-cf72-312756c9f215",
        "colab": {
          "base_uri": "https://localhost:8080/",
          "height": 51
        }
      },
      "source": [
        "sse = json_data('./nlu-benchmark/2017-06-custom-intent-engines/SearchScreeningEvent/train_SearchScreeningEvent.json')\n",
        "sse_text,sse_entity = sse.get_data()"
      ],
      "execution_count": 0,
      "outputs": [
        {
          "output_type": "stream",
          "text": [
            "100%|██████████| 300/300 [00:00<00:00, 12265.24it/s]\n",
            "100%|██████████| 300/300 [00:00<00:00, 51449.12it/s]\n"
          ],
          "name": "stderr"
        }
      ]
    },
    {
      "cell_type": "code",
      "metadata": {
        "id": "gVDJH8kd8j3G",
        "colab_type": "code",
        "colab": {}
      },
      "source": [
        "text = np.hstack([atp_text,br_text,gw_text,pm_text,rb_text,scw_text,sse_text])[0]"
      ],
      "execution_count": 0,
      "outputs": []
    },
    {
      "cell_type": "code",
      "metadata": {
        "id": "1X9ih7f68ruP",
        "colab_type": "code",
        "colab": {}
      },
      "source": [
        "entity = np.concatenate([atp_entity,br_entity,gw_entity,pm_entity,rb_entity,scw_entity,sse_entity])"
      ],
      "execution_count": 0,
      "outputs": []
    },
    {
      "cell_type": "code",
      "metadata": {
        "id": "GpJro8C9h6Ms",
        "colab_type": "code",
        "colab": {}
      },
      "source": [
        "intent = [i//300 for i in range(len(text))]"
      ],
      "execution_count": 0,
      "outputs": []
    },
    {
      "cell_type": "markdown",
      "metadata": {
        "id": "wYPlBj9s9nBJ",
        "colab_type": "text"
      },
      "source": [
        "# Preprocessing"
      ]
    },
    {
      "cell_type": "code",
      "metadata": {
        "id": "nxPWtQ-s_WwW",
        "colab_type": "code",
        "colab": {}
      },
      "source": [
        "# def shuffle(text,entity):\n",
        "#     ind = np.arange(len(text))\n",
        "#     np.random.shuffle(ind)\n",
        "#     text_shfl = [text[ind[i]] for i in range(len(text))]\n",
        "#     entity_shfl = [entity[ind[i]] for i in range(len(entity))]\n",
        "#     return text_shfl,entity_shfl"
      ],
      "execution_count": 0,
      "outputs": []
    },
    {
      "cell_type": "code",
      "metadata": {
        "id": "OvmAIXfnC6Ai",
        "colab_type": "code",
        "colab": {}
      },
      "source": [
        "def max_len(arr):\n",
        "    maxx = len(arr[0])\n",
        "    for i in range(len(arr)):\n",
        "        if(maxx<len(arr[i])):\n",
        "            maxx = len(arr[i])\n",
        "    return maxx"
      ],
      "execution_count": 0,
      "outputs": []
    },
    {
      "cell_type": "code",
      "metadata": {
        "id": "h1K1f5d_-xJ8",
        "colab_type": "code",
        "colab": {}
      },
      "source": [
        "# text,entity = shuffle(text,entity)"
      ],
      "execution_count": 0,
      "outputs": []
    },
    {
      "cell_type": "code",
      "metadata": {
        "id": "Nq33dO7mdh5L",
        "colab_type": "code",
        "colab": {}
      },
      "source": [
        "ind = np.arange(len(text))\n",
        "np.random.shuffle(ind)\n",
        "train_ind = ind[:-200]\n",
        "test_ind = ind[-200:]"
      ],
      "execution_count": 0,
      "outputs": []
    },
    {
      "cell_type": "markdown",
      "metadata": {
        "id": "VWQbn0f3ecPv",
        "colab_type": "text"
      },
      "source": [
        "## Distribution"
      ]
    },
    {
      "cell_type": "code",
      "metadata": {
        "id": "g46ZYs1J_RIT",
        "colab_type": "code",
        "colab": {}
      },
      "source": [
        "dist = [0 for i in range(4)]\n",
        "for i in range(1,len(entity)):\n",
        "    if(len(entity[i])<5):\n",
        "        dist[0]+=1\n",
        "    elif(len(entity[i])<10):\n",
        "        dist[1]+=1\n",
        "    elif(len(entity[i])<15):\n",
        "        dist[2]+=1\n",
        "    elif(len(entity[i])>15):\n",
        "        dist[3]+=1"
      ],
      "execution_count": 0,
      "outputs": []
    },
    {
      "cell_type": "code",
      "metadata": {
        "id": "Ce9qQAQ__0cj",
        "colab_type": "code",
        "outputId": "23cf633c-9aff-4887-a7c0-06291b844b63",
        "colab": {
          "base_uri": "https://localhost:8080/",
          "height": 283
        }
      },
      "source": [
        "plt.plot(['5','10','15','>15'],dist)\n",
        "plt.xlabel('Sentence Length')\n",
        "plt.show()"
      ],
      "execution_count": 0,
      "outputs": [
        {
          "output_type": "display_data",
          "data": {
            "image/png": "[encoded data removed]",
            "text/plain": [
              "<Figure size 432x288 with 1 Axes>"
            ]
          },
          "metadata": {
            "tags": []
          }
        }
      ]
    },
    {
      "cell_type": "code",
      "metadata": {
        "id": "6IpnPsXeBLlC",
        "colab_type": "code",
        "outputId": "1833dfa3-3849-4293-b3a2-89a482dccaf5",
        "colab": {
          "base_uri": "https://localhost:8080/",
          "height": 34
        }
      },
      "source": [
        "max_len(entity)"
      ],
      "execution_count": 0,
      "outputs": [
        {
          "output_type": "execute_result",
          "data": {
            "text/plain": [
              "27"
            ]
          },
          "metadata": {
            "tags": []
          },
          "execution_count": 27
        }
      ]
    },
    {
      "cell_type": "markdown",
      "metadata": {
        "id": "46mfKxX-csp9",
        "colab_type": "text"
      },
      "source": [
        "## Bert_embeddings"
      ]
    },
    {
      "cell_type": "code",
      "metadata": {
        "id": "iEGnd-NWYHpp",
        "colab_type": "code",
        "colab": {}
      },
      "source": [
        "# pretrained_path = './uncased_L-12_H-768_A-12'\n",
        "# config_path = os.path.join(pretrained_path,'bert_config.json')\n",
        "# ckpt_path = os.path.join(pretrained_path,'bert_model.ckpt')\n",
        "# vocab_path = os.path.join(pretrained_path,'vocab.txt')"
      ],
      "execution_count": 0,
      "outputs": []
    },
    {
      "cell_type": "code",
      "metadata": {
        "id": "RVOzf6xNYMf6",
        "colab_type": "code",
        "colab": {}
      },
      "source": [
        "# token_dict = {}\n",
        "# with codecs.open(vocab_path, 'r', 'utf8') as reader:\n",
        "#     for line in reader:\n",
        "#         token = line.strip()\n",
        "#         token_dict[token] = len(token_dict)\n",
        "# tokenizer = keras_bert.Tokenizer(token_dict)"
      ],
      "execution_count": 0,
      "outputs": []
    },
    {
      "cell_type": "code",
      "metadata": {
        "id": "jRlRG8fyYS0P",
        "colab_type": "code",
        "colab": {}
      },
      "source": [
        "# def embed(text_arr,max_len):\n",
        "#     ind_array = []\n",
        "#     seg_array = []\n",
        "#     for i in range(len(text_arr)):\n",
        "#         ind,seg = tokenizer.encode(first=text_arr[i],max_len=max_len)\n",
        "#         ind_array.append(ind)\n",
        "#         seg_array.append(seg)\n",
        "#     ind_array = np.array(ind_array)\n",
        "#     seg_array = np.array(seg_array)\n",
        "#     return ind_array,seg_array"
      ],
      "execution_count": 0,
      "outputs": []
    },
    {
      "cell_type": "code",
      "metadata": {
        "id": "zoXwfBS8Z-Hr",
        "colab_type": "code",
        "colab": {}
      },
      "source": [
        "# bert = keras_bert.load_trained_model_from_checkpoint(config_path,ckpt_path,training=False,trainable=False,seq_len=32)"
      ],
      "execution_count": 0,
      "outputs": []
    },
    {
      "cell_type": "code",
      "metadata": {
        "colab_type": "code",
        "outputId": "ec6d5841-bc8b-45d5-bee3-2b160135c25c",
        "id": "IxHjqmSucEJh",
        "colab": {
          "base_uri": "https://localhost:8080/",
          "height": 34
        }
      },
      "source": [
        "# inpt = bert.inputs[:2]\n",
        "# out = bert.get_layer('Embedding-Norm').output\n",
        "# print(out.shape)\n",
        "# embedding = keras.models.Model(inpt,out)"
      ],
      "execution_count": 0,
      "outputs": [
        {
          "output_type": "stream",
          "text": [
            "(?, 32, 768)\n"
          ],
          "name": "stdout"
        }
      ]
    },
    {
      "cell_type": "markdown",
      "metadata": {
        "id": "OIXLHaj8c7SO",
        "colab_type": "text"
      },
      "source": [
        "## GLOVE"
      ]
    },
    {
      "cell_type": "code",
      "metadata": {
        "id": "GN7ZfKmVupDC",
        "colab_type": "code",
        "outputId": "ee157cae-60a9-4782-bf58-1579765e9092",
        "colab": {
          "base_uri": "https://localhost:8080/",
          "height": 34
        }
      },
      "source": [
        "# text_dic = {}\n",
        "# entity_dic = {}\n",
        "# ctr = 0\n",
        "# ectr = 0\n",
        "# for i in tqdm(range(len(text))):\n",
        "#     text_split = text[i].lower().strip().split(' ')\n",
        "#     entity_split = entity[i]\n",
        "#     for j in range(len(text_split)):\n",
        "#         if(text_split[j] not in text_dic):\n",
        "#             text_dic[text_split[j]] = ctr\n",
        "#             ctr+=1\n",
        "#         try:\n",
        "#             if(entity_split[j] not in entity_dic):\n",
        "#                 entity_dic[entity_split[j]] = ectr\n",
        "#                 ectr+=1\n",
        "#         except:\n",
        "#             print(i)"
      ],
      "execution_count": 0,
      "outputs": [
        {
          "output_type": "stream",
          "text": [
            "100%|██████████| 2100/2100 [00:00<00:00, 160367.75it/s]\n"
          ],
          "name": "stderr"
        }
      ]
    },
    {
      "cell_type": "code",
      "metadata": {
        "id": "wUr3JXXY66BQ",
        "colab_type": "code",
        "outputId": "810b7708-5dc9-4b64-e9eb-597483c73be3",
        "colab": {
          "base_uri": "https://localhost:8080/",
          "height": 34
        }
      },
      "source": [
        "ctr"
      ],
      "execution_count": 0,
      "outputs": [
        {
          "output_type": "execute_result",
          "data": {
            "text/plain": [
              "3456"
            ]
          },
          "metadata": {
            "tags": []
          },
          "execution_count": 137
        }
      ]
    },
    {
      "cell_type": "code",
      "metadata": {
        "id": "mA9UDEBHpzM6",
        "colab_type": "code",
        "colab": {}
      },
      "source": [
        "# glove_dic = {}\n",
        "# ctr2 = 0\n",
        "# with open('glove.840B.300d.txt') as file:\n",
        "#     line = file.readline().split(' ')\n",
        "#     while(line and ctr2<3143):#ctr):\n",
        "#         if(''.join(line[:-300]) != '' and ''.join(line[:-300]) in text_dic):\n",
        "#             try:\n",
        "#                 glove_dic[''.join(line[:-300])] = list(map(float,line[-300:]))\n",
        "#                 ctr2 += 1\n",
        "#                 print(ctr2)\n",
        "#             except:\n",
        "#                 pass\n",
        "#         line = file.readline().split(' ')"
      ],
      "execution_count": 0,
      "outputs": []
    },
    {
      "cell_type": "code",
      "metadata": {
        "id": "NJnK2FXTx5K7",
        "colab_type": "code",
        "colab": {}
      },
      "source": [
        "# for key,val in text_dic.items():\n",
        "#     if(key not in glove_dic):\n",
        "#         print(key)"
      ],
      "execution_count": 0,
      "outputs": []
    },
    {
      "cell_type": "code",
      "metadata": {
        "id": "5pJWmROrG41P",
        "colab_type": "code",
        "outputId": "be9d2d7e-fe66-4664-eff6-e0cdd49e06d0",
        "colab": {
          "base_uri": "https://localhost:8080/",
          "height": 34
        }
      },
      "source": [
        "# glove_dic = {}\n",
        "# with open('glove.42B.300d.txt') as file:\n",
        "#     for i in tqdm(range(ctr)):\n",
        "#         line = file.readline().split(' ')\n",
        "#         glove_dic[''.join(line[:-300])] = list(map(float,line[-300:]))"
      ],
      "execution_count": 0,
      "outputs": [
        {
          "output_type": "stream",
          "text": [
            " 58%|█████▊    | 1114962/1917495 [01:28<01:00, 13266.41it/s]"
          ],
          "name": "stderr"
        }
      ]
    },
    {
      "cell_type": "markdown",
      "metadata": {
        "id": "r59U6cbEc-Ai",
        "colab_type": "text"
      },
      "source": [
        "## Word2Vec"
      ]
    },
    {
      "cell_type": "code",
      "metadata": {
        "id": "19jE4pb7dqse",
        "colab_type": "code",
        "colab": {}
      },
      "source": [
        "text_token = [keras.preprocessing.text.text_to_word_sequence(text[i], filters='!\"#$%&()*+,-./:;<=>?@[\\\\]^_`{|}~\\t\\n', lower=True, split=' ') for i in range(len(text))]"
      ],
      "execution_count": 0,
      "outputs": []
    },
    {
      "cell_type": "code",
      "metadata": {
        "id": "cg53XGy0dwdy",
        "colab_type": "code",
        "colab": {}
      },
      "source": [
        "text_token.append(['<PAD>'])"
      ],
      "execution_count": 0,
      "outputs": []
    },
    {
      "cell_type": "code",
      "metadata": {
        "id": "oozrJzu1dGvE",
        "colab_type": "code",
        "outputId": "ed194ee5-4250-499b-ed4a-47c877961528",
        "colab": {
          "base_uri": "https://localhost:8080/",
          "height": 88
        }
      },
      "source": [
        "emb_size = 50\n",
        "embed = Word2Vec(text_token,min_count=1,size=emb_size)"
      ],
      "execution_count": 0,
      "outputs": [
        {
          "output_type": "stream",
          "text": [
            "WARNING: Logging before flag parsing goes to stderr.\n",
            "W0904 20:33:49.347602 140504677635968 base_any2vec.py:723] consider setting layer size to a multiple of 4 for greater performance\n",
            "W0904 20:33:49.485596 140504677635968 base_any2vec.py:1386] under 10 jobs per worker: consider setting a smaller `batch_words' for smoother alpha decay\n"
          ],
          "name": "stderr"
        }
      ]
    },
    {
      "cell_type": "code",
      "metadata": {
        "id": "BfAf1LDngWIH",
        "colab_type": "code",
        "outputId": "7d3e6a0a-c89e-42bd-8d80-40a9c7e2b88a",
        "colab": {
          "base_uri": "https://localhost:8080/",
          "height": 34
        }
      },
      "source": [
        "entity_dic = {}\n",
        "ctr = 0\n",
        "for i in tqdm(range(len(entity))):\n",
        "    entity_split = entity[i]\n",
        "    for j in range(len(entity_split)):\n",
        "        if(entity_split[j] not in entity_dic):\n",
        "            entity_dic[entity_split[j]] = ctr\n",
        "            ctr+=1"
      ],
      "execution_count": 0,
      "outputs": [
        {
          "output_type": "stream",
          "text": [
            "100%|██████████| 2100/2100 [00:00<00:00, 384613.70it/s]\n"
          ],
          "name": "stderr"
        }
      ]
    },
    {
      "cell_type": "markdown",
      "metadata": {
        "id": "9Lx1yVTLcxNg",
        "colab_type": "text"
      },
      "source": [
        "## Data generator"
      ]
    },
    {
      "cell_type": "code",
      "metadata": {
        "id": "7sASAwOscsq9",
        "colab_type": "code",
        "colab": {}
      },
      "source": [
        "def test_generator(text_token,entity,intent,batch_size=32):\n",
        "    while True:\n",
        "        ind = np.random.choice(test_ind,size=batch_size)\n",
        "        select_entity = [entity[ind[i]] for i in range(batch_size)]\n",
        "        pad = max_len(select_entity)\n",
        "        batch_text = []\n",
        "        batch_entity = []\n",
        "        batch_intent = keras.utils.to_categorical([intent[ind[i]] for i in range(batch_size)],num_classes=7)\n",
        "        for i in range(batch_size):\n",
        "            ent = entity[ind[i]]\n",
        "            txt = text_token[ind[i]]\n",
        "            batch_entity.append([entity_dic[ent[j]] if j<len(ent)\n",
        "                                 else entity_dic['O'] \n",
        "                                 for j in range(pad)])\n",
        "            batch_text.append([embed[txt[j]] if j<len(txt)\n",
        "                               else embed['<PAD>'] \n",
        "                               for j in range(pad)])\n",
        "        batch_text = np.array(batch_text)\n",
        "        batch_entity = keras.utils.to_categorical(batch_entity,num_classes=len(entity_dic))\n",
        "        \n",
        "        yield(batch_text,[batch_entity,batch_intent])"
      ],
      "execution_count": 0,
      "outputs": []
    },
    {
      "cell_type": "code",
      "metadata": {
        "id": "Bmrbc1ZKBMjt",
        "colab_type": "code",
        "colab": {}
      },
      "source": [
        "def train_generator(text_token,entity,intent,batch_size=32):\n",
        "    while True:\n",
        "        ind = np.random.choice(train_ind,size=batch_size)\n",
        "        select_entity = [entity[ind[i]] for i in range(batch_size)]\n",
        "        pad = max_len(select_entity)\n",
        "        batch_text = []\n",
        "        batch_entity = []\n",
        "        batch_intent = keras.utils.to_categorical([intent[ind[i]] for i in range(batch_size)],num_classes=7)\n",
        "        for i in range(batch_size):\n",
        "            ent = entity[ind[i]]\n",
        "            txt = text_token[ind[i]]\n",
        "            batch_entity.append([entity_dic[ent[j]] if j<len(ent)\n",
        "                                 else entity_dic['O'] \n",
        "                                 for j in range(pad)])\n",
        "            batch_text.append([embed[txt[j]] if j<len(txt)\n",
        "                               else embed['<PAD>'] \n",
        "                               for j in range(pad)])\n",
        "        batch_text = np.array(batch_text)\n",
        "        batch_entity = keras.utils.to_categorical(batch_entity,num_classes=len(entity_dic))\n",
        "        \n",
        "        yield(batch_text,[batch_entity,batch_intent])"
      ],
      "execution_count": 0,
      "outputs": []
    },
    {
      "cell_type": "markdown",
      "metadata": {
        "id": "D-4hKzRhEwru",
        "colab_type": "text"
      },
      "source": [
        "# Model"
      ]
    },
    {
      "cell_type": "code",
      "metadata": {
        "id": "OZ03cUO9kFw-",
        "colab_type": "code",
        "colab": {}
      },
      "source": [
        "gru_units = 64"
      ],
      "execution_count": 0,
      "outputs": []
    },
    {
      "cell_type": "code",
      "metadata": {
        "id": "httBcA1NEua-",
        "colab_type": "code",
        "colab": {}
      },
      "source": [
        "inpt = keras.layers.Input((None,emb_size))\n",
        "gru_out,gru_h = keras.layers.CuDNNGRU(gru_units,return_sequences=True,return_state=True)(inpt)\n",
        "x = keras.layers.Dense(32,activation='relu')(gru_h)\n",
        "intent_out = keras.layers.Dense(7,activation='softmax',name='intent')(x)\n",
        "# intnt = keras.layers.Lambda(lambda x: tf.tile(x,gru_out.shape[1]))(intent_out)\n",
        "# y = keras.layers.Concatenate([intnt,gru_out])\n",
        "# y = keras.layers.CuDNNGRU(gru_units,return_sequences=True)(y)\n",
        "y = keras.layers.Dense(32,activation='relu')(gru_out)\n",
        "entity_out = keras.layers.Dense(len(entity_dic),activation='softmax',name='entity')(y)\n",
        "model = keras.models.Model(inpt,[entity_out,intent_out])"
      ],
      "execution_count": 0,
      "outputs": []
    },
    {
      "cell_type": "code",
      "metadata": {
        "id": "GxYZCkUtlgKz",
        "colab_type": "code",
        "outputId": "702ec67f-3aa2-4298-cf1a-5725905f160f",
        "colab": {
          "base_uri": "https://localhost:8080/",
          "height": 377
        }
      },
      "source": [
        "model.summary()"
      ],
      "execution_count": 0,
      "outputs": [
        {
          "output_type": "stream",
          "text": [
            "Model: \"model_2\"\n",
            "__________________________________________________________________________________________________\n",
            "Layer (type)                    Output Shape         Param #     Connected to                     \n",
            "==================================================================================================\n",
            "input_2 (InputLayer)            (None, None, 50)     0                                            \n",
            "__________________________________________________________________________________________________\n",
            "cu_dnngru_2 (CuDNNGRU)          [(None, None, 64), ( 22272       input_2[0][0]                    \n",
            "__________________________________________________________________________________________________\n",
            "dense_4 (Dense)                 (None, None, 32)     2080        cu_dnngru_2[0][0]                \n",
            "__________________________________________________________________________________________________\n",
            "dense_3 (Dense)                 (None, 32)           2080        cu_dnngru_2[0][1]                \n",
            "__________________________________________________________________________________________________\n",
            "entity (Dense)                  (None, None, 40)     1320        dense_4[0][0]                    \n",
            "__________________________________________________________________________________________________\n",
            "intent (Dense)                  (None, 7)            231         dense_3[0][0]                    \n",
            "==================================================================================================\n",
            "Total params: 27,983\n",
            "Trainable params: 27,983\n",
            "Non-trainable params: 0\n",
            "__________________________________________________________________________________________________\n"
          ],
          "name": "stdout"
        }
      ]
    },
    {
      "cell_type": "code",
      "metadata": {
        "id": "o5D9HN5OmjFi",
        "colab_type": "code",
        "colab": {}
      },
      "source": [
        "loss = {'entity':'categorical_crossentropy','intent':'categorical_crossentropy'}"
      ],
      "execution_count": 0,
      "outputs": []
    },
    {
      "cell_type": "code",
      "metadata": {
        "id": "OxUpQ-jrmhhM",
        "colab_type": "code",
        "colab": {}
      },
      "source": [
        "model.compile(optimizer='adam',loss=loss,metrics=['acc'])"
      ],
      "execution_count": 0,
      "outputs": []
    },
    {
      "cell_type": "code",
      "metadata": {
        "id": "Z3Evi4blXjPD",
        "colab_type": "code",
        "colab": {}
      },
      "source": [
        "es = keras.callbacks.EarlyStopping(monitor='Log-loss (entity)',restore_best_weights=True,patience=200,verbose=1)"
      ],
      "execution_count": 0,
      "outputs": []
    },
    {
      "cell_type": "code",
      "metadata": {
        "id": "W5TtDlAVmy5O",
        "colab_type": "code",
        "outputId": "d2fa26a7-2b9d-4880-9085-13007fb67145",
        "colab": {
          "base_uri": "https://localhost:8080/",
          "height": 1000
        }
      },
      "source": [
        "history = model.fit_generator(train_generator(text_token,entity,intent),epochs=500,steps_per_epoch=50,validation_data=test_generator(text_token,entity,intent),validation_steps=5,callbacks=[PlotLossesKeras()])"
      ],
      "execution_count": 0,
      "outputs": [
        {
          "output_type": "display_data",
          "data": {
            "image/png": "[encoded data removed]",
            "text/plain": [
              "<Figure size 864x1152 with 5 Axes>"
            ]
          },
          "metadata": {
            "tags": []
          }
        },
        {
          "output_type": "stream",
          "text": [
            "Log-loss (cost function):\n",
            "training   (min:    3.122, max:    4.619, cur:    3.122)\n",
            "validation (min:    3.141, max:    3.670, cur:    3.141)\n",
            "\n",
            "Log-loss (entity):\n",
            "training   (min:    1.226, max:    2.650, cur:    1.226)\n",
            "validation (min:    1.204, max:    1.698, cur:    1.204)\n",
            "\n",
            "Log-loss (intent):\n",
            "training   (min:    1.896, max:    1.969, cur:    1.896)\n",
            "validation (min:    1.895, max:    1.973, cur:    1.937)\n",
            "\n",
            "entity_acc:\n",
            "training   (min:    0.664, max:    0.750, cur:    0.741)\n",
            "validation (min:    0.718, max:    0.742, cur:    0.742)\n",
            "\n",
            "intent_acc:\n",
            "training   (min:    0.157, max:    0.217, cur:    0.217)\n",
            "validation (min:    0.156, max:    0.250, cur:    0.156)\n",
            "Epoch 5/500\n",
            "50/50 [==============================] - 0s 8ms/step - loss: 3.0847 - entity_loss: 1.2015 - intent_loss: 1.8833 - entity_acc: 0.7387 - intent_acc: 0.2137 - val_loss: 2.9959 - val_entity_loss: 1.1868 - val_intent_loss: 1.8091 - val_entity_acc: 0.7486 - val_intent_acc: 0.3625\n"
          ],
          "name": "stdout"
        }
      ]
    },
    {
      "cell_type": "code",
      "metadata": {
        "id": "v90SEYQ2Uhl2",
        "colab_type": "code",
        "colab": {}
      },
      "source": [
        "model.save_weights('intent.h5')"
      ],
      "execution_count": 0,
      "outputs": []
    },
    {
      "cell_type": "markdown",
      "metadata": {
        "id": "fMDbFbpyrkz1",
        "colab_type": "text"
      },
      "source": [
        "# Inference"
      ]
    },
    {
      "cell_type": "code",
      "metadata": {
        "id": "vay0i4aMUrQ-",
        "colab_type": "code",
        "colab": {}
      },
      "source": [
        "ind = test_ind\n",
        "batch_size = len(ind)\n",
        "select_entity = [entity[ind[i]] for i in range(batch_size)]\n",
        "pad = max_len(select_entity)\n",
        "batch_text = []\n",
        "batch_entity = []\n",
        "batch_intent = keras.utils.to_categorical([intent[ind[i]] for i in range(batch_size)],num_classes=7)\n",
        "for i in range(batch_size):\n",
        "    ent = entity[ind[i]]\n",
        "    txt = text_token[ind[i]]\n",
        "    batch_entity.append([entity_dic[ent[j]] if j<len(ent)\n",
        "                         else entity_dic['O'] \n",
        "                         for j in range(pad)])\n",
        "    batch_text.append([embed[txt[j]] if j<len(txt)\n",
        "                       else embed['<PAD>'] \n",
        "                       for j in range(pad)])\n",
        "batch_text = np.array(batch_text)\n",
        "batch_entity = keras.utils.to_categorical(batch_entity,num_classes=len(entity_dic))"
      ],
      "execution_count": 0,
      "outputs": []
    },
    {
      "cell_type": "code",
      "metadata": {
        "id": "ILilFWOrVNXI",
        "colab_type": "code",
        "colab": {}
      },
      "source": [
        "pred = model.predict(batch_text)"
      ],
      "execution_count": 0,
      "outputs": []
    },
    {
      "cell_type": "code",
      "metadata": {
        "id": "EgzfdZ-OVrvX",
        "colab_type": "code",
        "colab": {}
      },
      "source": [
        "pred[0]"
      ],
      "execution_count": 0,
      "outputs": []
    },
    {
      "cell_type": "code",
      "metadata": {
        "id": "57_6_GVEVRh9",
        "colab_type": "code",
        "colab": {}
      },
      "source": [
        "pred_intent = [np.argmax(pred[1][i]) for i in range(len(pred[1]))]\n",
        "true_intent = [np.argmax(batch_intent[i]) for i in range(len(pred[1]))]"
      ],
      "execution_count": 0,
      "outputs": []
    },
    {
      "cell_type": "code",
      "metadata": {
        "id": "kM-O4eSlWSRa",
        "colab_type": "code",
        "colab": {}
      },
      "source": [
        "summ = 0\n",
        "for i in range(len(pred_intent)):\n",
        "    if(pred_intent[i]==np.argmax(batch_intent[i])):\n",
        "        summ+=1\n",
        "acc = summ/len(pred_intent)\n",
        "print(acc)"
      ],
      "execution_count": 0,
      "outputs": []
    },
    {
      "cell_type": "code",
      "metadata": {
        "id": "PGBIxTynW24O",
        "colab_type": "code",
        "colab": {}
      },
      "source": [
        ""
      ],
      "execution_count": 0,
      "outputs": []
    }
  ]
}